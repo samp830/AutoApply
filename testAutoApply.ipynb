{
 "cells": [
  {
   "cell_type": "code",
   "execution_count": 1,
   "metadata": {
    "ExecuteTime": {
     "end_time": "2020-06-13T10:12:09.284294Z",
     "start_time": "2020-06-13T10:12:09.154634Z"
    }
   },
   "outputs": [],
   "source": [
    "from selenium import webdriver\n",
    "from selenium.webdriver import ActionChains\n",
    "from selenium.webdriver.common.keys import Keys\n",
    "from selenium.webdriver.common.by import By\n",
    "from selenium.webdriver.support.ui import WebDriverWait\n",
    "from selenium.webdriver.support import expected_conditions as EC\n",
    "import time\n",
    "import re"
   ]
  },
  {
   "cell_type": "code",
   "execution_count": 2,
   "metadata": {
    "ExecuteTime": {
     "end_time": "2020-06-13T10:12:32.390370Z",
     "start_time": "2020-06-13T10:12:32.385513Z"
    }
   },
   "outputs": [],
   "source": [
    "path = r\"C:\\Program Files (x86)\\chromedriver.exe\"\n",
    "resume = r\"C:\\Users\\pleasework\\Documents\\DataResume2020.pdf\""
   ]
  },
  {
   "cell_type": "code",
   "execution_count": 3,
   "metadata": {},
   "outputs": [],
   "source": [
    "## Things to add:\n",
    "## applying to multiple positions at once\n",
    "## checking requirements\n",
    "## keep track of jobs that are not easy apply (company website)"
   ]
  },
  {
   "cell_type": "markdown",
   "metadata": {},
   "source": [
    "# Goals: Weed out jobs before switching tabs (requirements)"
   ]
  },
  {
   "cell_type": "code",
   "execution_count": 4,
   "metadata": {},
   "outputs": [],
   "source": [
    "def apply(job, location, name, email, phone, resume):\n",
    "    driver = webdriver.Chrome(path)\n",
    "    #Link to indeed home\n",
    "    driver.get(\"https://www.indeed.com/?from=gnav-jobsearch--jasx\")\n",
    "    jobtitle = driver.find_element_by_name(\"q\")\n",
    "    jobtitle.send_keys(job)\n",
    "    where = driver.find_element_by_name(\"l\")\n",
    "    #Clears the default location on indeed\n",
    "    #hacky solution - maxlen allowed for place is 62, so just press backspace 62 times lol\n",
    "    #alternative solution - select all, then backspace in the field\n",
    "    for _ in range(62):\n",
    "        where.send_keys(Keys.BACKSPACE);\n",
    "    where.send_keys(location)\n",
    "    where.send_keys(Keys.RETURN)\n",
    "    \n",
    "    ####Applying####\n",
    "    cards = driver.find_elements_by_class_name(\"jobsearch-SerpJobCard\")\n",
    "    job_dates = driver.find_elements_by_class_name(\"date\")\n",
    "    # New list of jobs if the job was posted less than 20 days ago\n",
    "    new_jobs = [job for job in job_dates if int(float(job.text[0:2])) < 20]\n",
    "    # Remove cards based on the indices where day posted was over 20 days ago\n",
    "    new_jobs = set(new_jobs)\n",
    "    indices = [index for index, job in enumerate(job_dates) if job in new_jobs]\n",
    "    new_cards = [cards[index] for index in indices]\n",
    "    for card in new_cards:\n",
    "        # only click the ones with indeed easy apply\n",
    "        if \"Easily apply\" in card.get_attribute('innerHTML'):\n",
    "            link = card.find_element_by_xpath(\".//a[@class='jobtitle turnstileLink ']\")\n",
    "            actions = ActionChains(driver)\n",
    "            actions.key_down(Keys.COMMAND).click(link).key_up(Keys.CONTROL).perform()\n",
    "            driver.switch_to.window(driver.window_handles[-1])\n",
    "            apply = driver.find_elements_by_tag_name(\"button\")\n",
    "            apply[2].click()\n",
    "            html = driver.page_source\n",
    "            iframe = driver.find_elements_by_tag_name(\"iframe\")\n",
    "            framenamesrc = [(i.get_attribute('name'), i.get_attribute('src')) for i in iframe]\n",
    "            for framename, src in framenamesrc:\n",
    "                if framename.startswith('indeedapply'):\n",
    "                    driver.switch_to.frame(framename)\n",
    "                    iframe = driver.find_elements_by_tag_name(\"iframe\")\n",
    "                    iframeinner = driver.find_elements_by_tag_name(\"iframe\")\n",
    "                    srcinner = [i.get_attribute('src') for i in iframeinner]\n",
    "                    for innersrc in srcinner:\n",
    "                        if innersrc.startswith('https://apply.indeed.com/indeedapply/'):\n",
    "                            print(innersrc)\n",
    "                            driver.get(innersrc)\n",
    "                            break\n",
    "                    break              \n",
    "            namefield = driver.find_element_by_id(\"input-applicant.name\")\n",
    "            namefield.send_keys(\"\")\n",
    "            namefield.send_keys(name)\n",
    "            emailfield = driver.find_element_by_id(\"input-applicant.email\")\n",
    "            emailfield.send_keys(email)\n",
    "            phonefield = driver.find_element_by_id(\"input-applicant.phoneNumber\")\n",
    "            phonefield.send_keys(phone)\n",
    "            resumefield = driver.find_element_by_id(\"ia-FilePicker-resume\")\n",
    "            resumefield.send_keys(resume)\n",
    "            driver.switch_to.window(driver.window_handles[0])\n",
    "    time.sleep(3)\n",
    "    driver.quit()"
   ]
  },
  {
   "cell_type": "code",
   "execution_count": 8,
   "metadata": {},
   "outputs": [],
   "source": [
    "def apply(job, location, name, email, phone, resume):\n",
    "    driver = webdriver.Chrome(path)\n",
    "    #Link to indeed home\n",
    "    driver.get(\"https://www.indeed.com/?from=gnav-jobsearch--jasx\")\n",
    "    jobtitle = driver.find_element_by_name(\"q\")\n",
    "    jobtitle.send_keys(job)\n",
    "    where = driver.find_element_by_name(\"l\")\n",
    "    #Clears the default location on indeed\n",
    "    #hacky solution - maxlen allowed for place is 62, so just press backspace 62 times lol\n",
    "    #alternative solution - select all, then backspace in the field\n",
    "    for _ in range(62):\n",
    "        where.send_keys(Keys.BACKSPACE);\n",
    "    where.send_keys(location)\n",
    "    where.send_keys(Keys.RETURN)\n",
    "    \n",
    "    ####Applying####\n",
    "    cards = driver.find_elements_by_class_name(\"jobsearch-SerpJobCard\")\n",
    "    for card in cards:\n",
    "        # only click the ones with indeed easy apply\n",
    "        if \"Easily apply\" in card.get_attribute('innerHTML'):\n",
    "            link = card.find_element_by_xpath(\".//a[@class='jobtitle turnstileLink ']\")\n",
    "            actions = ActionChains(driver)\n",
    "            actions.key_down(Keys.COMMAND).click(link).key_up(Keys.CONTROL).perform()\n",
    "            driver.switch_to.window(driver.window_handles[-1])\n",
    "            apply = driver.find_elements_by_tag_name(\"button\")\n",
    "            apply[2].click()\n",
    "            html = driver.page_source\n",
    "            iframe = driver.find_elements_by_tag_name(\"iframe\")\n",
    "            framenamesrc = [(i.get_attribute('name'), i.get_attribute('src')) for i in iframe]\n",
    "            for framename, src in framenamesrc:\n",
    "                if framename.startswith('indeedapply'):\n",
    "                    driver.switch_to.frame(framename)\n",
    "                    iframe = driver.find_elements_by_tag_name(\"iframe\")\n",
    "                    iframeinner = driver.find_elements_by_tag_name(\"iframe\")\n",
    "                    srcinner = [i.get_attribute('src') for i in iframeinner]\n",
    "                    for innersrc in srcinner:\n",
    "                        if innersrc.startswith('https://apply.indeed.com/indeedapply/'):\n",
    "                            print(innersrc)\n",
    "                            driver.get(innersrc)\n",
    "                            break\n",
    "                    break        "
   ]
  },
  {
   "cell_type": "code",
   "execution_count": null,
   "metadata": {},
   "outputs": [],
   "source": [
    "                    # Check the iframe for the words \"Bachelors\" or \"BS\", if not present qualifications don't fit\n",
    "                    jobDetails = driver.page_source\n",
    "                    jobDetails = jobDetails.lower()\n",
    "                    if (\"bachelor\" or \"bs\") not in jobDetails:\n",
    "                        continue"
   ]
  },
  {
   "cell_type": "code",
   "execution_count": 5,
   "metadata": {},
   "outputs": [],
   "source": [
    "apply(\"Python Entry Developer\", \"Boston, Massachusetts\", \"First Last\", \"emailgmail@gmail.com\", \"1234567890\", resume)"
   ]
  },
  {
   "cell_type": "code",
   "execution_count": null,
   "metadata": {},
   "outputs": [],
   "source": []
  }
 ],
 "metadata": {
  "kernelspec": {
   "display_name": "Python 3",
   "language": "python",
   "name": "python3"
  },
  "language_info": {
   "codemirror_mode": {
    "name": "ipython",
    "version": 3
   },
   "file_extension": ".py",
   "mimetype": "text/x-python",
   "name": "python",
   "nbconvert_exporter": "python",
   "pygments_lexer": "ipython3",
   "version": "3.7.6"
  }
 },
 "nbformat": 4,
 "nbformat_minor": 2
}
