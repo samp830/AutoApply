{
 "cells": [
  {
   "cell_type": "code",
   "execution_count": 13,
   "metadata": {
    "ExecuteTime": {
     "end_time": "2020-06-17T15:23:27.069537Z",
     "start_time": "2020-06-17T15:23:27.056348Z"
    },
    "collapsed": false
   },
   "outputs": [],
   "source": [
    "from selenium import webdriver\n",
    "from selenium.webdriver import ActionChains\n",
    "from selenium.webdriver.common.keys import Keys\n",
    "from selenium.webdriver.common.by import By\n",
    "from selenium.webdriver.support.ui import WebDriverWait\n",
    "from selenium.webdriver.support import expected_conditions as EC\n",
    "import time\n",
    "import re"
   ]
  },
  {
   "cell_type": "code",
   "execution_count": 14,
   "metadata": {
    "ExecuteTime": {
     "end_time": "2020-06-17T15:23:27.331978Z",
     "start_time": "2020-06-17T15:23:27.328618Z"
    },
    "collapsed": true
   },
   "outputs": [],
   "source": [
    "path = '/Users/sparajuli/Downloads/chromedriver'\n",
    "resumepath = '/Users/sparajuli/Downloads/EECS225B_Final_Project_Final.pdf'"
   ]
  },
  {
   "cell_type": "code",
   "execution_count": 15,
   "metadata": {
    "ExecuteTime": {
     "end_time": "2020-06-17T15:23:27.837476Z",
     "start_time": "2020-06-17T15:23:27.814892Z"
    },
    "collapsed": true
   },
   "outputs": [],
   "source": [
    "def apply(job, location, name, email, phone, resume):\n",
    "    driver = webdriver.Chrome(path)\n",
    "    #Link to indeed home\n",
    "    driver.get(\"https://www.indeed.com/?from=gnav-jobsearch--jasx\")\n",
    "    jobtitle = driver.find_element_by_name(\"q\")\n",
    "    jobtitle.send_keys(job)\n",
    "    where = driver.find_element_by_name(\"l\")\n",
    "    #Clears the default location on indeed\n",
    "    #hacky solution - maxlen allowed for place is 62, so just press backspace 62 times lol\n",
    "    for _ in range(62):\n",
    "        where.send_keys(Keys.BACKSPACE);\n",
    "    where.send_keys(location)\n",
    "    where.send_keys(Keys.RETURN)\n",
    "    ####Applying####\n",
    "    cards = driver.find_elements_by_class_name(\"jobsearch-SerpJobCard\")\n",
    "    for card in cards:\n",
    "        # only click the ones with indeed easy apply\n",
    "        if \"Easily apply\" in card.get_attribute('innerHTML'):\n",
    "            link = card.find_element_by_xpath(\".//a[@class='jobtitle turnstileLink ']\")\n",
    "            actions = ActionChains(driver)\n",
    "            actions.key_down(Keys.COMMAND).click(link).key_up(Keys.CONTROL).perform()\n",
    "            driver.switch_to.window(driver.window_handles[-1])\n",
    "            apply = driver.find_elements_by_tag_name(\"button\")\n",
    "            apply[2].click()\n",
    "            html = driver.page_source\n",
    "            iframe = driver.find_elements_by_tag_name(\"iframe\")\n",
    "            framenamesrc = [(i.get_attribute('name'), i.get_attribute('src')) for i in iframe]\n",
    "            for framename, src in framenamesrc:\n",
    "                if framename.startswith('indeedapply'):\n",
    "                    driver.switch_to.frame(framename)\n",
    "                    iframeinner = driver.find_elements_by_tag_name(\"iframe\")\n",
    "                    srcinner = [i.get_attribute('src') for i in iframeinner]\n",
    "                    for innersrc in srcinner:\n",
    "                        if innersrc.startswith('https://apply.indeed.com/indeedapply/'):\n",
    "                            print(innersrc)\n",
    "                            driver.get(innersrc)\n",
    "                            break\n",
    "                    break\n",
    "            namefield = driver.find_element_by_id(\"input-applicant.name\")\n",
    "            namefield.send_keys(\"\")\n",
    "            namefield.send_keys(name)\n",
    "            emailfield = driver.find_element_by_id(\"input-applicant.email\")\n",
    "            emailfield.send_keys(email)\n",
    "            phonefield = driver.find_element_by_id(\"input-applicant.phoneNumber\")\n",
    "            phonefield.send_keys(phone)\n",
    "            resumefield = driver.find_element_by_id(\"ia-FilePicker-resume\")\n",
    "            resumefield.send_keys(resume)\n",
    "            driver.switch_to.window(driver.window_handles[0])\n",
    "    time.sleep(3)\n",
    "    driver.quit()"
   ]
  },
  {
   "cell_type": "code",
   "execution_count": 16,
   "metadata": {
    "ExecuteTime": {
     "end_time": "2020-06-17T15:23:46.851774Z",
     "start_time": "2020-06-17T15:23:35.742384Z"
    },
    "collapsed": false
   },
   "outputs": [
    {
     "name": "stdout",
     "output_type": "stream",
     "text": [
      "https://apply.indeed.com/indeedapply/resumeapply?jobUrl=https%3A%2F%2Fwww.indeed.com%2Fviewjob%3Fjk%3D9a36f9d3e3d81a62&postUrl=https%3A%2F%2Fdradisindeedapply.sandbox.indeed.net%2Fprocess-indeedapply&continueUrl=http%3A%2F%2Fwww.indeed.com%2Fviewjob%3Fcmp%3DHamamatsu-Corporation%26t%3DSoftware%2BEngineer%26jk%3D9a36f9d3e3d81a62%26sjdu%3DQwrRXKrqZ3CNX5W-O9jEvRFd8FQI4DEv5V74lSpSnHZ0dl7L94aDgztbZJcG5qQUiSIsw_IAUu4X8rbkBFMj2w%26tk%3D1eb1e1s880m95000%26adid%3D180057515%26pub%3D4a1b367933fd867b19b072952f68dceb%26vjs%3D3%26applied%3D1%26sita%3D1%26from%3Dpostapply&questions=nigma%3A%2F%2FWmh2bFhXEF5TDUBZ%3Flocale%3Den_US%26v%3D3&phone=optional&coverletter=OPTIONAL&jobId=aef016543406e4096557&jk=9a36f9d3e3d81a62&jobTitle=Software%20Engineer&jobCompany=Hamamatsu%20Corporation&jobLocation=Bridgewater%2C%20NJ&apiToken=aa102235a5ccb18bd3668c0e14aa3ea7e2503cfac2a7a9bf3d6549899e125af4&advNum=9816929322992263&pingbackUrl=https%3A%2F%2Fgdc.indeed.com%2Fconv%2ForgIndApp%3Fvjtk%3D1eb1e1u27qvis800%26jk%3D9a36f9d3e3d81a62%26co%3DUS%26tk%3D1eb1e1s880m95000%26trk.origin%3Djobsearch%26sj%3D1%26vjfrom%3Dweb%26advn%3D9816929322992263%26adid%3D180057515&onready=_onButtonReady&clickHandler=window.top.postMessage(%7BeventType%3A%20%27click%27%7D%2C%20%27*%27)&dismissHandler=window.top.postMessage(%7BeventType%3A%20%27dismiss%27%7D%2C%20%27*%27)&inpageApplyHandler=window.top.postMessage(%7BeventType%3A%20%27inpageapply%27%7D%2C%20%27*%27)&resume=required&noButtonUI=true&onappliedstatus=_updateIndeedApplyStatus&recentsearchquery=%7B%22what%22%3A%22Software%20Engineer%22%2C%22where%22%3A%22East%20Brunswick%2C%20NJ%22%7D&iaUid=1eb1e1ukooahs800&hl=en_US&co=US&mob=0&preload=0&spn=1&iip=1&autoString=chdr&formParent&twoPaneGroup=-1&twoPaneVjGroup=-1&twoPaneAllocId&twoPaneVjAllocId&jobApplies=-1&ms=1592407423827&indeedApplyableJobApiURI=http%3A%2F%2Flocalhost%2FIndeedApplyApiServer-iad%2Fprofile%2Fapply%2Fv1%2FindeedApplyableJobs%2F6324a1e4-923f-47a2-8173-9cf309c39cbe%2F&isCreateIAJobApiSuccess=true&referer=https%3A%2F%2Fwww.indeed.com%2F&href=https%3A%2F%2Fwww.indeed.com%2Fviewjob%3Fcmp%3DHamamatsu-Corporation%26t%3DSoftware%2BEngineer%26jk%3D9a36f9d3e3d81a62%26sjdu%3DQwrRXKrqZ3CNX5W-O9jEvRFd8FQI4DEv5V74lSpSnHZ0dl7L94aDgztbZJcG5qQUiSIsw_IAUu4X8rbkBFMj2w%26tk%3D1eb1e1s880m95000%26adid%3D180057515%26pub%3D4a1b367933fd867b19b072952f68dceb%26vjs%3D3\n"
     ]
    },
    {
     "ename": "IndexError",
     "evalue": "list index out of range",
     "output_type": "error",
     "traceback": [
      "\u001b[0;31m---------------------------------------------------------------------------\u001b[0m",
      "\u001b[0;31mIndexError\u001b[0m                                Traceback (most recent call last)",
      "\u001b[0;32m<ipython-input-16-5a0d931b5afd>\u001b[0m in \u001b[0;36m<module>\u001b[0;34m\u001b[0m\n\u001b[0;32m----> 1\u001b[0;31m \u001b[0mapply\u001b[0m\u001b[0;34m(\u001b[0m\u001b[0;34m\"Software Engineer\"\u001b[0m\u001b[0;34m,\u001b[0m \u001b[0;34m\"East Brunswick, NJ\"\u001b[0m\u001b[0;34m,\u001b[0m \u001b[0;34m\"First Last\"\u001b[0m\u001b[0;34m,\u001b[0m \u001b[0;34m\"first@last.com\"\u001b[0m\u001b[0;34m,\u001b[0m \u001b[0;34m\"9494949494\"\u001b[0m\u001b[0;34m,\u001b[0m \u001b[0mresumepath\u001b[0m\u001b[0;34m)\u001b[0m\u001b[0;34m\u001b[0m\u001b[0;34m\u001b[0m\u001b[0m\n\u001b[0m",
      "\u001b[0;32m<ipython-input-15-7495a4b8fa3c>\u001b[0m in \u001b[0;36mapply\u001b[0;34m(job, location, name, email, phone, resume)\u001b[0m\n\u001b[1;32m     22\u001b[0m             \u001b[0mdriver\u001b[0m\u001b[0;34m.\u001b[0m\u001b[0mswitch_to\u001b[0m\u001b[0;34m.\u001b[0m\u001b[0mwindow\u001b[0m\u001b[0;34m(\u001b[0m\u001b[0mdriver\u001b[0m\u001b[0;34m.\u001b[0m\u001b[0mwindow_handles\u001b[0m\u001b[0;34m[\u001b[0m\u001b[0;34m-\u001b[0m\u001b[0;36m1\u001b[0m\u001b[0;34m]\u001b[0m\u001b[0;34m)\u001b[0m\u001b[0;34m\u001b[0m\u001b[0;34m\u001b[0m\u001b[0m\n\u001b[1;32m     23\u001b[0m             \u001b[0mapply\u001b[0m \u001b[0;34m=\u001b[0m \u001b[0mdriver\u001b[0m\u001b[0;34m.\u001b[0m\u001b[0mfind_elements_by_tag_name\u001b[0m\u001b[0;34m(\u001b[0m\u001b[0;34m\"button\"\u001b[0m\u001b[0;34m)\u001b[0m\u001b[0;34m\u001b[0m\u001b[0;34m\u001b[0m\u001b[0m\n\u001b[0;32m---> 24\u001b[0;31m             \u001b[0mapply\u001b[0m\u001b[0;34m[\u001b[0m\u001b[0;36m2\u001b[0m\u001b[0;34m]\u001b[0m\u001b[0;34m.\u001b[0m\u001b[0mclick\u001b[0m\u001b[0;34m(\u001b[0m\u001b[0;34m)\u001b[0m\u001b[0;34m\u001b[0m\u001b[0;34m\u001b[0m\u001b[0m\n\u001b[0m\u001b[1;32m     25\u001b[0m             \u001b[0mhtml\u001b[0m \u001b[0;34m=\u001b[0m \u001b[0mdriver\u001b[0m\u001b[0;34m.\u001b[0m\u001b[0mpage_source\u001b[0m\u001b[0;34m\u001b[0m\u001b[0;34m\u001b[0m\u001b[0m\n\u001b[1;32m     26\u001b[0m             \u001b[0miframe\u001b[0m \u001b[0;34m=\u001b[0m \u001b[0mdriver\u001b[0m\u001b[0;34m.\u001b[0m\u001b[0mfind_elements_by_tag_name\u001b[0m\u001b[0;34m(\u001b[0m\u001b[0;34m\"iframe\"\u001b[0m\u001b[0;34m)\u001b[0m\u001b[0;34m\u001b[0m\u001b[0;34m\u001b[0m\u001b[0m\n",
      "\u001b[0;31mIndexError\u001b[0m: list index out of range"
     ]
    }
   ],
   "source": [
    "apply(\"Software Engineer\", \"East Brunswick, NJ\", \"First Last\", \"first@last.com\", \"9494949494\", resumepath)"
   ]
  },
  {
   "cell_type": "code",
   "execution_count": null,
   "metadata": {
    "collapsed": true
   },
   "outputs": [],
   "source": [
    "#     try:\n",
    "#         apply_now = WebDriverWait(driver, 10).until(\n",
    "#         EC.presence_of_element_located((By.CLASS_NAME, \"indeed-apply-button\"))\n",
    "#     )\n",
    "#     except:\n",
    "#         apply_now = None\n",
    "#         driver.quit()"
   ]
  },
  {
   "cell_type": "code",
   "execution_count": null,
   "metadata": {
    "collapsed": true
   },
   "outputs": [],
   "source": []
  }
 ],
 "metadata": {
  "kernelspec": {
   "display_name": "jobsearch",
   "language": "python",
   "name": "jobsearch"
  },
  "language_info": {
   "codemirror_mode": {
    "name": "ipython",
    "version": 3
   },
   "file_extension": ".py",
   "mimetype": "text/x-python",
   "name": "python",
   "nbconvert_exporter": "python",
   "pygments_lexer": "ipython3",
   "version": "3.6.10"
  }
 },
 "nbformat": 4,
 "nbformat_minor": 2
}
