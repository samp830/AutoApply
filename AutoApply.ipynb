{
 "cells": [
  {
   "cell_type": "code",
   "execution_count": 1,
   "metadata": {
    "ExecuteTime": {
     "end_time": "2020-06-13T10:12:09.284294Z",
     "start_time": "2020-06-13T10:12:09.154634Z"
    },
    "collapsed": false
   },
   "outputs": [],
   "source": [
    "from selenium import webdriver\n",
    "from selenium.webdriver import ActionChains\n",
    "from selenium.webdriver.common.keys import Keys\n",
    "from selenium.webdriver.common.by import By\n",
    "from selenium.webdriver.support.ui import WebDriverWait\n",
    "from selenium.webdriver.support import expected_conditions as EC\n",
    "import time\n",
    "import re"
   ]
  },
  {
   "cell_type": "code",
   "execution_count": 2,
   "metadata": {
    "ExecuteTime": {
     "end_time": "2020-06-13T10:12:32.390370Z",
     "start_time": "2020-06-13T10:12:32.385513Z"
    },
    "collapsed": true
   },
   "outputs": [],
   "source": [
    "path = '/Users/sparajuli/Downloads/chromedriver'"
   ]
  },
  {
   "cell_type": "code",
   "execution_count": 4,
   "metadata": {
    "ExecuteTime": {
     "end_time": "2020-06-13T10:12:33.539566Z",
     "start_time": "2020-06-13T10:12:33.520975Z"
    },
    "collapsed": true
   },
   "outputs": [],
   "source": [
    "def apply(job, location, name, email, phone):\n",
    "    driver = webdriver.Chrome(path)\n",
    "    #Link to indeed home\n",
    "    driver.get(\"https://www.indeed.com/?from=gnav-jobsearch--jasx\")\n",
    "    jobtitle = driver.find_element_by_name(\"q\")\n",
    "    jobtitle.send_keys(job)\n",
    "    where = driver.find_element_by_name(\"l\")\n",
    "    #Clears the default location on indeed\n",
    "    #hacky solution - maxlen allowed for place is 62, so just press backspace 62 times lol\n",
    "    for _ in range(62):\n",
    "        where.send_keys(Keys.BACKSPACE);\n",
    "    where.send_keys(location)\n",
    "    where.send_keys(Keys.RETURN)\n",
    "    \n",
    "    ####Applying####\n",
    "    cards = driver.find_elements_by_class_name(\"jobsearch-SerpJobCard\")\n",
    "#     for i in range(len(jobs)):\n",
    "#         jobs[i].send_keys(Keys.RETURN)\n",
    "    for card in cards:\n",
    "        # only click the ones with indeed easy apply\n",
    "        if \"Easily apply\" in card.get_attribute('innerHTML'):\n",
    "            link = card.find_element_by_xpath(\".//a[@class='jobtitle turnstileLink ']\")\n",
    "            actions = ActionChains(driver)\n",
    "            actions.key_down(Keys.COMMAND).click(link).key_up(Keys.CONTROL).perform()\n",
    "            driver.switch_to.window(driver.window_handles[-1])\n",
    "            apply = driver.find_elements_by_tag_name(\"button\")\n",
    "            apply[2].click()\n",
    "            break\n",
    "    time.sleep(1)\n",
    "#     html = driver.page_source\n",
    "    iframe = driver.find_elements_by_tag_name(\"iframe\")\n",
    "    framenamesrc = [(i.get_attribute('name'), i.get_attribute('src')) for i in iframe]\n",
    "    for framename, src in framenamesrc:\n",
    "        if framename.startswith('indeedapply'):\n",
    "            driver.switch_to.frame(framename)\n",
    "            #Nested iframe\n",
    "            iframeinner = driver.find_elements_by_tag_name(\"iframe\")\n",
    "            srcinner = [i.get_attribute('src') for i in iframeinner]\n",
    "            for innersrc in srcinner:\n",
    "                #Trouble working with iframe itself, so need to find inner link\n",
    "                if innersrc.startswith('https://apply.indeed.com/indeedapply/'):\n",
    "                    print(innersrc)\n",
    "                    driver.get(innersrc)\n",
    "                    break\n",
    "            break\n",
    "    namefield = driver.find_element_by_name(\"applicant.name\")\n",
    "    #Need to send random string first for some reason\n",
    "    namefield.send_keys(\"\")\n",
    "    namefield.send_keys(name)\n",
    "    emailfield = driver.find_element_by_name(\"applicant.email\")\n",
    "    emailfield.send_keys(email)\n",
    "    phonefield = driver.find_element_by_name(\"applicant.phoneNumber\")\n",
    "    phonefield.send_keys(phone)\n",
    "    time.sleep(5)\n",
    "    driver.quit()"
   ]
  },
  {
   "cell_type": "code",
   "execution_count": 5,
   "metadata": {
    "ExecuteTime": {
     "end_time": "2020-06-13T10:12:48.178138Z",
     "start_time": "2020-06-13T10:12:38.079769Z"
    },
    "collapsed": false
   },
   "outputs": [
    {
     "name": "stdout",
     "output_type": "stream",
     "text": [
      "https://apply.indeed.com/indeedapply/resumeapply?jobUrl=https%3A%2F%2Fwww.indeed.com%2Fviewjob%3Fjk%3Dbb2ebfe8899dcb61&postUrl=https%3A%2F%2Fdradisindeedapply.sandbox.indeed.net%2Fprocess-indeedapply&continueUrl=http%3A%2F%2Fwww.indeed.com%2Fviewjob%3Fcmp%3DSDB-Package-%2526-Delivery%26t%3DFedEx%2BGround%2BDeliver%2BDriver%26jk%3Dbb2ebfe8899dcb61%26sjdu%3DQwrRXKrqZ3CNX5W-O9jEvTW-fRtKOrfG_wLZ1jc7avH4YjLRZc6ogoYVF4meJTftTY6zyQ9wBJxvk2zvmmphOyStQbJfNvovzxwwL3FUnNU%26tk%3D1eamilkii2uu1000%26adid%3D345749143%26pub%3D4a1b367933fd867b19b072952f68dceb%26vjs%3D3%26applied%3D1%26sita%3D1%26from%3Dpostapply&questions=nigma%3A%2F%2FWmh2b11WEFRdFUZfREJq%3Flocale%3Den_US%26v%3D3&phone=optional&coverletter=OPTIONAL&jobId=a17e17f3015c9b57ed54&jk=bb2ebfe8899dcb61&jobTitle=FedEx%20Ground%20Deliver%20Driver%20(NON%20CDL%20)&jobCompany=SDB%20Package%20%26%20Delivery&jobLocation=Hamilton%20Township%2C%20NJ&apiToken=aa102235a5ccb18bd3668c0e14aa3ea7e2503cfac2a7a9bf3d6549899e125af4&advNum=1152931073936474&pingbackUrl=https%3A%2F%2Fgdc.indeed.com%2Fconv%2ForgIndApp%3Fvjtk%3D1eamillrm3e0l000%26jk%3Dbb2ebfe8899dcb61%26co%3DUS%26tk%3D1eamilkii2uu1000%26trk.origin%3Djobsearch%26sj%3D1%26vjfrom%3Dweb%26advn%3D1152931073936474%26adid%3D345749143&onready=_onButtonReady&clickHandler=window.top.postMessage(%7BeventType%3A%20%27click%27%7D%2C%20%27*%27)&dismissHandler=window.top.postMessage(%7BeventType%3A%20%27dismiss%27%7D%2C%20%27*%27)&inpageApplyHandler=window.top.postMessage(%7BeventType%3A%20%27inpageapply%27%7D%2C%20%27*%27)&resume=required&noButtonUI=true&onappliedstatus=_updateIndeedApplyStatus&recentsearchquery=%7B%22what%22%3A%22Driver%22%2C%22where%22%3A%22East%20Brunswick%2C%20NJ%22%7D&iaUid=1eamilmek317t000&hl=en_US&co=US&mob=0&preload=0&spn=1&iip=1&autoString=chdr&formParent&twoPaneGroup=-1&twoPaneVjGroup=-1&twoPaneAllocId&twoPaneVjAllocId&jobApplies=-1&ms=1592043165527&indeedApplyableJobApiURI=http%3A%2F%2Flocalhost%2FIndeedApplyApiServer%2Fprofile%2Fapply%2Fv1%2FindeedApplyableJobs%2F1bf10c8a-461f-4c18-85cd-dd4c816019e8%2F&isCreateIAJobApiSuccess=true&referer=https%3A%2F%2Fwww.indeed.com%2F&href=https%3A%2F%2Fwww.indeed.com%2Fviewjob%3Fcmp%3DSDB-Package-%2526-Delivery%26t%3DFedEx%2BGround%2BDeliver%2BDriver%26jk%3Dbb2ebfe8899dcb61%26sjdu%3DQwrRXKrqZ3CNX5W-O9jEvTW-fRtKOrfG_wLZ1jc7avH4YjLRZc6ogoYVF4meJTftTY6zyQ9wBJxvk2zvmmphOyStQbJfNvovzxwwL3FUnNU%26tk%3D1eamilkii2uu1000%26adid%3D345749143%26pub%3D4a1b367933fd867b19b072952f68dceb%26vjs%3D3\n"
     ]
    }
   ],
   "source": [
    "apply(\"Driver\", \"East Brunswick, NJ\", \"First Last\", \"first@last.com\", \"9494949494\")"
   ]
  },
  {
   "cell_type": "code",
   "execution_count": null,
   "metadata": {
    "collapsed": true
   },
   "outputs": [],
   "source": [
    "#     try:\n",
    "#         apply_now = WebDriverWait(driver, 10).until(\n",
    "#         EC.presence_of_element_located((By.CLASS_NAME, \"indeed-apply-button\"))\n",
    "#     )\n",
    "#     except:\n",
    "#         apply_now = None\n",
    "#         driver.quit()"
   ]
  },
  {
   "cell_type": "code",
   "execution_count": null,
   "metadata": {
    "collapsed": true
   },
   "outputs": [],
   "source": []
  }
 ],
 "metadata": {
  "kernelspec": {
   "display_name": "jobsearch",
   "language": "python",
   "name": "jobsearch"
  },
  "language_info": {
   "codemirror_mode": {
    "name": "ipython",
    "version": 3
   },
   "file_extension": ".py",
   "mimetype": "text/x-python",
   "name": "python",
   "nbconvert_exporter": "python",
   "pygments_lexer": "ipython3",
   "version": "3.6.10"
  }
 },
 "nbformat": 4,
 "nbformat_minor": 2
}
